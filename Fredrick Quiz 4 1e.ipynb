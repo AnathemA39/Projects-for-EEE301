{
 "cells": [
  {
   "cell_type": "code",
   "execution_count": 1,
   "metadata": {},
   "outputs": [
    {
     "data": {
      "image/png": "[encoded data removed]",
      "text/plain": [
       "<Figure size 432x288 with 1 Axes>"
      ]
     },
     "metadata": {
      "needs_background": "light"
     },
     "output_type": "display_data"
    }
   ],
   "source": [
    "import numpy as np\n",
    "import matplotlib\n",
    "import matplotlib.pyplot as plt\n",
    "import matplotlib.animation as animation\n",
    "\n",
    "\n",
    "def update_line(num, data, line):\n",
    "\tline.set_data(data[..., :num])\n",
    "\ttime_text.set_text(\"Points: %.0f\" % int(num))\n",
    "\treturn line\n",
    "\n",
    "\n",
    "V_d = np.linspace(-309, 0, 50)\n",
    "f = [((1.68e+36) * (0.6 - i))**(1/4) for i in V_d]\n",
    "data = np.array([V_d, f])\n",
    "\n",
    "fig = plt.figure()\n",
    "ax = fig.add_subplot(111)\n",
    "l, = ax.plot([], [], 'r-')\n",
    "\n",
    "\n",
    "ax.set_xlabel(\"Applied Voltage\")\n",
    "ax.set_ylabel(\"frequency\")\n",
    "ax.set_xlim(-350, 10)\n",
    "ax.set_ylim(0, 5e9, 0.5e9)\n",
    "plt.title(\"Plot of frequency against Voltage\")\n",
    "time_text = ax.text(0.7, 0.95, \"\", transform = ax.transAxes, fontsize = 10, color = 'green')\n",
    "\n",
    "\n",
    "line_ani = animation.FuncAnimation(fig, update_line, frames = 50, fargs = (data, l))\n",
    "plt.show()"
   ]
  },
  {
   "cell_type": "code",
   "execution_count": null,
   "metadata": {},
   "outputs": [],
   "source": []
  },
  {
   "cell_type": "code",
   "execution_count": null,
   "metadata": {},
   "outputs": [],
   "source": []
  }
 ],
 "metadata": {
  "kernelspec": {
   "display_name": "Python 3",
   "language": "python",
   "name": "python3"
  },
  "language_info": {
   "codemirror_mode": {
    "name": "ipython",
    "version": 3
   },
   "file_extension": ".py",
   "mimetype": "text/x-python",
   "name": "python",
   "nbconvert_exporter": "python",
   "pygments_lexer": "ipython3",
   "version": "3.8.3"
  }
 },
 "nbformat": 4,
 "nbformat_minor": 4
}
